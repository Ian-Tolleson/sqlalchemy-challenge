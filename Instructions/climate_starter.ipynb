{
 "cells": [
  {
   "cell_type": "code",
   "execution_count": 3,
   "metadata": {},
   "outputs": [],
   "source": [
    "%matplotlib inline\n",
    "from matplotlib import style\n",
    "style.use('fivethirtyeight')\n",
    "import matplotlib.pyplot as plt"
   ]
  },
  {
   "cell_type": "code",
   "execution_count": 4,
   "metadata": {},
   "outputs": [],
   "source": [
    "import numpy as np\n",
    "import pandas as pd"
   ]
  },
  {
   "cell_type": "code",
   "execution_count": 5,
   "metadata": {},
   "outputs": [],
   "source": [
    "import datetime as dt"
   ]
  },
  {
   "cell_type": "markdown",
   "metadata": {},
   "source": [
    "# Reflect Tables into SQLAlchemy ORM"
   ]
  },
  {
   "cell_type": "code",
   "execution_count": 45,
   "metadata": {},
   "outputs": [],
   "source": [
    "# Python SQL toolkit and Object Relational Mapper\n",
    "import sqlalchemy\n",
    "from sqlalchemy.ext.automap import automap_base\n",
    "from sqlalchemy.orm import Session\n",
    "from sqlalchemy import create_engine, func, desc"
   ]
  },
  {
   "cell_type": "code",
   "execution_count": 46,
   "metadata": {},
   "outputs": [],
   "source": [
    "engine = create_engine(\"sqlite:///Resources/hawaii.sqlite\")"
   ]
  },
  {
   "cell_type": "code",
   "execution_count": 47,
   "metadata": {},
   "outputs": [],
   "source": [
    "# reflect an existing database into a new model\n",
    "Base = automap_base()\n",
    "# reflect the tables\n",
    "Base.prepare(engine, reflect=True)"
   ]
  },
  {
   "cell_type": "code",
   "execution_count": 48,
   "metadata": {},
   "outputs": [
    {
     "data": {
      "text/plain": [
       "['measurement', 'station']"
      ]
     },
     "execution_count": 48,
     "metadata": {},
     "output_type": "execute_result"
    }
   ],
   "source": [
    "# We can view all of the classes that automap found\n",
    "Base.classes.keys()"
   ]
  },
  {
   "cell_type": "code",
   "execution_count": 49,
   "metadata": {},
   "outputs": [],
   "source": [
    "# Save references to each table\n",
    "Measurement = Base.classes.measurement\n",
    "Station = Base.classes.station"
   ]
  },
  {
   "cell_type": "code",
   "execution_count": 50,
   "metadata": {},
   "outputs": [],
   "source": [
    "# Create our session (link) from Python to the DB\n",
    "Session = Session(engine)"
   ]
  },
  {
   "cell_type": "markdown",
   "metadata": {},
   "source": [
    "# Exploratory Climate Analysis"
   ]
  },
  {
   "cell_type": "code",
   "execution_count": 51,
   "metadata": {},
   "outputs": [],
   "source": [
    "# Design a query to retrieve the last 12 months of precipitation data and plot the results"
   ]
  },
  {
   "cell_type": "code",
   "execution_count": 104,
   "metadata": {},
   "outputs": [
    {
     "data": {
      "text/plain": [
       "[('2017-08-23')]"
      ]
     },
     "execution_count": 104,
     "metadata": {},
     "output_type": "execute_result"
    }
   ],
   "source": [
    "# Calculate the date 1 year ago from the last data point in the database\n",
    "last_date = Session.query(func.max(Measurement.date)).all()\n",
    "\n",
    "last_date"
   ]
  },
  {
   "cell_type": "code",
   "execution_count": 53,
   "metadata": {},
   "outputs": [
    {
     "data": {
      "text/plain": [
       "datetime.date(2016, 8, 23)"
      ]
     },
     "execution_count": 53,
     "metadata": {},
     "output_type": "execute_result"
    }
   ],
   "source": [
    "twelve_months = dt.date(2017, 8, 23) - dt.timedelta(days=365)\n",
    "\n",
    "twelve_months"
   ]
  },
  {
   "cell_type": "code",
   "execution_count": 106,
   "metadata": {},
   "outputs": [
    {
     "data": {
      "text/plain": [
       "datetime.date(2017, 8, 23)"
      ]
     },
     "execution_count": 106,
     "metadata": {},
     "output_type": "execute_result"
    }
   ],
   "source": [
    "last_date = twelve_months + dt.timedelta(days=365)\n",
    "last_date"
   ]
  },
  {
   "cell_type": "code",
   "execution_count": 107,
   "metadata": {},
   "outputs": [],
   "source": [
    "# Perform a query to retrieve the data and precipitation scores\n",
    "results = Session.query(Measurement.date,Measurement.prcp).filter(Measurement.date > twelve_months).all()"
   ]
  },
  {
   "cell_type": "code",
   "execution_count": 108,
   "metadata": {},
   "outputs": [],
   "source": [
    "# Save the query results as a Pandas DataFrame and set the index to the date column\n",
    "df = pd.DataFrame(results)\n",
    "\n",
    "df.columns =  results[0].keys()\n",
    "\n",
    "df.set_index('date',inplace = True)"
   ]
  },
  {
   "cell_type": "code",
   "execution_count": 109,
   "metadata": {},
   "outputs": [
    {
     "data": {
      "text/html": [
       "<div>\n",
       "<style scoped>\n",
       "    .dataframe tbody tr th:only-of-type {\n",
       "        vertical-align: middle;\n",
       "    }\n",
       "\n",
       "    .dataframe tbody tr th {\n",
       "        vertical-align: top;\n",
       "    }\n",
       "\n",
       "    .dataframe thead th {\n",
       "        text-align: right;\n",
       "    }\n",
       "</style>\n",
       "<table border=\"1\" class=\"dataframe\">\n",
       "  <thead>\n",
       "    <tr style=\"text-align: right;\">\n",
       "      <th></th>\n",
       "      <th>prcp</th>\n",
       "    </tr>\n",
       "    <tr>\n",
       "      <th>date</th>\n",
       "      <th></th>\n",
       "    </tr>\n",
       "  </thead>\n",
       "  <tbody>\n",
       "    <tr>\n",
       "      <td>2016-08-24</td>\n",
       "      <td>0.08</td>\n",
       "    </tr>\n",
       "    <tr>\n",
       "      <td>2016-08-24</td>\n",
       "      <td>2.15</td>\n",
       "    </tr>\n",
       "    <tr>\n",
       "      <td>2016-08-24</td>\n",
       "      <td>2.28</td>\n",
       "    </tr>\n",
       "    <tr>\n",
       "      <td>2016-08-24</td>\n",
       "      <td>2.15</td>\n",
       "    </tr>\n",
       "    <tr>\n",
       "      <td>2016-08-24</td>\n",
       "      <td>1.45</td>\n",
       "    </tr>\n",
       "    <tr>\n",
       "      <td>2016-08-24</td>\n",
       "      <td>1.22</td>\n",
       "    </tr>\n",
       "    <tr>\n",
       "      <td>2016-08-25</td>\n",
       "      <td>0.08</td>\n",
       "    </tr>\n",
       "    <tr>\n",
       "      <td>2016-08-25</td>\n",
       "      <td>0.00</td>\n",
       "    </tr>\n",
       "    <tr>\n",
       "      <td>2016-08-25</td>\n",
       "      <td>0.06</td>\n",
       "    </tr>\n",
       "    <tr>\n",
       "      <td>2016-08-25</td>\n",
       "      <td>0.00</td>\n",
       "    </tr>\n",
       "  </tbody>\n",
       "</table>\n",
       "</div>"
      ],
      "text/plain": [
       "            prcp\n",
       "date            \n",
       "2016-08-24  0.08\n",
       "2016-08-24  2.15\n",
       "2016-08-24  2.28\n",
       "2016-08-24  2.15\n",
       "2016-08-24  1.45\n",
       "2016-08-24  1.22\n",
       "2016-08-25  0.08\n",
       "2016-08-25  0.00\n",
       "2016-08-25  0.06\n",
       "2016-08-25  0.00"
      ]
     },
     "execution_count": 109,
     "metadata": {},
     "output_type": "execute_result"
    }
   ],
   "source": [
    "# Sort the dataframe by date\n",
    "df_sorted = df.sort_values('date')\n",
    "df_sorted=df_sorted.dropna()\n",
    "df_sorted.head(10)"
   ]
  },
  {
   "cell_type": "code",
   "execution_count": 133,
   "metadata": {},
   "outputs": [
    {
     "data": {
      "image/png": "[encoded data removed]",
      "text/plain": [
       "<Figure size 720x360 with 1 Axes>"
      ]
     },
     "metadata": {
      "needs_background": "light"
     },
     "output_type": "display_data"
    }
   ],
   "source": [
    "# Use Pandas Plotting with Matplotlib to plot the data\n",
    "prcp = df_sorted.plot(figsize = (10, 5))\n",
    "\n",
    "fig = prcp.get_figure()\n",
    "\n",
    "plt.title('Precipitation in Honolulu')\n",
    "\n",
    "plt.xlabel('Date')\n",
    "\n",
    "plt.ylabel('Precipitation')\n",
    "\n",
    "plt.xticks(rotation=45)\n",
    "\n",
    "plt.tight_layout()\n",
    "\n",
    "fig.savefig(\"Images/precipitation_new.png\")\n",
    "\n",
    "plt.show()"
   ]
  },
  {
   "cell_type": "code",
   "execution_count": 117,
   "metadata": {},
   "outputs": [
    {
     "data": {
      "text/html": [
       "<div>\n",
       "<style scoped>\n",
       "    .dataframe tbody tr th:only-of-type {\n",
       "        vertical-align: middle;\n",
       "    }\n",
       "\n",
       "    .dataframe tbody tr th {\n",
       "        vertical-align: top;\n",
       "    }\n",
       "\n",
       "    .dataframe thead th {\n",
       "        text-align: right;\n",
       "    }\n",
       "</style>\n",
       "<table border=\"1\" class=\"dataframe\">\n",
       "  <thead>\n",
       "    <tr style=\"text-align: right;\">\n",
       "      <th></th>\n",
       "      <th>prcp</th>\n",
       "    </tr>\n",
       "  </thead>\n",
       "  <tbody>\n",
       "    <tr>\n",
       "      <td>count</td>\n",
       "      <td>2015.000000</td>\n",
       "    </tr>\n",
       "    <tr>\n",
       "      <td>mean</td>\n",
       "      <td>0.176462</td>\n",
       "    </tr>\n",
       "    <tr>\n",
       "      <td>std</td>\n",
       "      <td>0.460288</td>\n",
       "    </tr>\n",
       "    <tr>\n",
       "      <td>min</td>\n",
       "      <td>0.000000</td>\n",
       "    </tr>\n",
       "    <tr>\n",
       "      <td>25%</td>\n",
       "      <td>0.000000</td>\n",
       "    </tr>\n",
       "    <tr>\n",
       "      <td>50%</td>\n",
       "      <td>0.020000</td>\n",
       "    </tr>\n",
       "    <tr>\n",
       "      <td>75%</td>\n",
       "      <td>0.130000</td>\n",
       "    </tr>\n",
       "    <tr>\n",
       "      <td>max</td>\n",
       "      <td>6.700000</td>\n",
       "    </tr>\n",
       "  </tbody>\n",
       "</table>\n",
       "</div>"
      ],
      "text/plain": [
       "              prcp\n",
       "count  2015.000000\n",
       "mean      0.176462\n",
       "std       0.460288\n",
       "min       0.000000\n",
       "25%       0.000000\n",
       "50%       0.020000\n",
       "75%       0.130000\n",
       "max       6.700000"
      ]
     },
     "execution_count": 117,
     "metadata": {},
     "output_type": "execute_result"
    }
   ],
   "source": [
    "# Use Pandas to calcualte the summary statistics for the precipitation data\n",
    "summary = df_sorted.describe()\n",
    "summary"
   ]
  },
  {
   "cell_type": "code",
   "execution_count": 118,
   "metadata": {},
   "outputs": [
    {
     "name": "stdout",
     "output_type": "stream",
     "text": [
      "Total number of stations is: 9\n"
     ]
    }
   ],
   "source": [
    "# Design a query to show how many stations are available in this dataset?\n",
    "stations = Session.query(Station).count()\n",
    "print('Total number of stations is: {}'.format(stations))"
   ]
  },
  {
   "cell_type": "code",
   "execution_count": 119,
   "metadata": {},
   "outputs": [
    {
     "data": {
      "text/plain": [
       "[('USC00519281', 2772),\n",
       " ('USC00519397', 2724),\n",
       " ('USC00513117', 2709),\n",
       " ('USC00519523', 2669),\n",
       " ('USC00516128', 2612),\n",
       " ('USC00514830', 2202),\n",
       " ('USC00511918', 1979),\n",
       " ('USC00517948', 1372),\n",
       " ('USC00518838', 511)]"
      ]
     },
     "execution_count": 119,
     "metadata": {},
     "output_type": "execute_result"
    }
   ],
   "source": [
    "# What are the most active stations? (i.e. what stations have the most rows)?\n",
    "# List the stations and the counts in descending order.\n",
    "\n",
    "most_active = Session.query(Measurement.station,func.count(Measurement.station)).group_by(Measurement.station)\\\n",
    "                                     .order_by(desc(func.count(Measurement.station))).all()\n",
    "\n",
    "most_active"
   ]
  },
  {
   "cell_type": "code",
   "execution_count": 120,
   "metadata": {},
   "outputs": [
    {
     "data": {
      "text/html": [
       "<div>\n",
       "<style scoped>\n",
       "    .dataframe tbody tr th:only-of-type {\n",
       "        vertical-align: middle;\n",
       "    }\n",
       "\n",
       "    .dataframe tbody tr th {\n",
       "        vertical-align: top;\n",
       "    }\n",
       "\n",
       "    .dataframe thead th {\n",
       "        text-align: right;\n",
       "    }\n",
       "</style>\n",
       "<table border=\"1\" class=\"dataframe\">\n",
       "  <thead>\n",
       "    <tr style=\"text-align: right;\">\n",
       "      <th></th>\n",
       "      <th>Station</th>\n",
       "      <th>Count</th>\n",
       "    </tr>\n",
       "  </thead>\n",
       "  <tbody>\n",
       "    <tr>\n",
       "      <td>0</td>\n",
       "      <td>USC00519281</td>\n",
       "      <td>2772</td>\n",
       "    </tr>\n",
       "    <tr>\n",
       "      <td>1</td>\n",
       "      <td>USC00519397</td>\n",
       "      <td>2724</td>\n",
       "    </tr>\n",
       "    <tr>\n",
       "      <td>2</td>\n",
       "      <td>USC00513117</td>\n",
       "      <td>2709</td>\n",
       "    </tr>\n",
       "    <tr>\n",
       "      <td>3</td>\n",
       "      <td>USC00519523</td>\n",
       "      <td>2669</td>\n",
       "    </tr>\n",
       "    <tr>\n",
       "      <td>4</td>\n",
       "      <td>USC00516128</td>\n",
       "      <td>2612</td>\n",
       "    </tr>\n",
       "    <tr>\n",
       "      <td>5</td>\n",
       "      <td>USC00514830</td>\n",
       "      <td>2202</td>\n",
       "    </tr>\n",
       "    <tr>\n",
       "      <td>6</td>\n",
       "      <td>USC00511918</td>\n",
       "      <td>1979</td>\n",
       "    </tr>\n",
       "    <tr>\n",
       "      <td>7</td>\n",
       "      <td>USC00517948</td>\n",
       "      <td>1372</td>\n",
       "    </tr>\n",
       "    <tr>\n",
       "      <td>8</td>\n",
       "      <td>USC00518838</td>\n",
       "      <td>511</td>\n",
       "    </tr>\n",
       "  </tbody>\n",
       "</table>\n",
       "</div>"
      ],
      "text/plain": [
       "       Station  Count\n",
       "0  USC00519281   2772\n",
       "1  USC00519397   2724\n",
       "2  USC00513117   2709\n",
       "3  USC00519523   2669\n",
       "4  USC00516128   2612\n",
       "5  USC00514830   2202\n",
       "6  USC00511918   1979\n",
       "7  USC00517948   1372\n",
       "8  USC00518838    511"
      ]
     },
     "execution_count": 120,
     "metadata": {},
     "output_type": "execute_result"
    }
   ],
   "source": [
    "stations_df = pd.DataFrame(most_active, columns=['Station', 'Count'])\n",
    "stations_df"
   ]
  },
  {
   "cell_type": "code",
   "execution_count": 121,
   "metadata": {},
   "outputs": [
    {
     "name": "stdout",
     "output_type": "stream",
     "text": [
      "USC00519281\n"
     ]
    },
    {
     "data": {
      "text/html": [
       "<div>\n",
       "<style scoped>\n",
       "    .dataframe tbody tr th:only-of-type {\n",
       "        vertical-align: middle;\n",
       "    }\n",
       "\n",
       "    .dataframe tbody tr th {\n",
       "        vertical-align: top;\n",
       "    }\n",
       "\n",
       "    .dataframe thead th {\n",
       "        text-align: right;\n",
       "    }\n",
       "</style>\n",
       "<table border=\"1\" class=\"dataframe\">\n",
       "  <thead>\n",
       "    <tr style=\"text-align: right;\">\n",
       "      <th></th>\n",
       "      <th>Low Temp</th>\n",
       "      <th>High Temp</th>\n",
       "      <th>Average Temp</th>\n",
       "    </tr>\n",
       "  </thead>\n",
       "  <tbody>\n",
       "    <tr>\n",
       "      <td>0</td>\n",
       "      <td>54.0</td>\n",
       "      <td>85.0</td>\n",
       "      <td>71.663781</td>\n",
       "    </tr>\n",
       "  </tbody>\n",
       "</table>\n",
       "</div>"
      ],
      "text/plain": [
       "   Low Temp  High Temp  Average Temp\n",
       "0      54.0       85.0     71.663781"
      ]
     },
     "execution_count": 121,
     "metadata": {},
     "output_type": "execute_result"
    }
   ],
   "source": [
    "# Using the station id from the previous query, calculate the lowest temperature recorded, \n",
    "# highest temperature recorded, and average temperature of the most active station?\n",
    "top_station = Session.query(Measurement.station,func.count(Measurement.station)).group_by(Measurement.station)\\\n",
    "                                     .order_by(desc(func.count(Measurement.station))).first()\n",
    "\n",
    "print(top_station[0])\n",
    "top_station_weather = Session.query(func.min(Measurement.tobs),func.max(Measurement.tobs),func.avg(Measurement.tobs))\\\n",
    "                  .filter(Measurement.station == top_station[0]).all()\n",
    "\n",
    "top_df = pd.DataFrame(top_station_weather, columns = [\"Low Temp\", \"High Temp\",\"Average Temp\"])\n",
    "top_df"
   ]
  },
  {
   "cell_type": "code",
   "execution_count": 122,
   "metadata": {},
   "outputs": [
    {
     "data": {
      "text/plain": [
       "[('2017-08-18', 'USC00519281', 79.0),\n",
       " ('2017-08-17', 'USC00519281', 76.0),\n",
       " ('2017-08-16', 'USC00519281', 76.0),\n",
       " ('2017-08-15', 'USC00519281', 77.0),\n",
       " ('2017-08-14', 'USC00519281', 77.0),\n",
       " ('2017-08-13', 'USC00519281', 77.0),\n",
       " ('2017-08-06', 'USC00519281', 83.0),\n",
       " ('2017-08-05', 'USC00519281', 82.0),\n",
       " ('2017-08-04', 'USC00519281', 77.0),\n",
       " ('2017-07-31', 'USC00519281', 76.0),\n",
       " ('2017-07-30', 'USC00519281', 81.0),\n",
       " ('2017-07-29', 'USC00519281', 82.0),\n",
       " ('2017-07-28', 'USC00519281', 81.0),\n",
       " ('2017-07-27', 'USC00519281', 76.0),\n",
       " ('2017-07-26', 'USC00519281', 75.0),\n",
       " ('2017-07-25', 'USC00519281', 77.0),\n",
       " ('2017-07-24', 'USC00519281', 75.0),\n",
       " ('2017-07-23', 'USC00519281', 82.0),\n",
       " ('2017-07-22', 'USC00519281', 77.0),\n",
       " ('2017-07-21', 'USC00519281', 77.0),\n",
       " ('2017-07-20', 'USC00519281', 77.0),\n",
       " ('2017-07-19', 'USC00519281', 76.0),\n",
       " ('2017-07-18', 'USC00519281', 76.0),\n",
       " ('2017-07-17', 'USC00519281', 76.0),\n",
       " ('2017-07-16', 'USC00519281', 80.0),\n",
       " ('2017-07-15', 'USC00519281', 80.0),\n",
       " ('2017-07-14', 'USC00519281', 76.0),\n",
       " ('2017-07-13', 'USC00519281', 74.0),\n",
       " ('2017-07-12', 'USC00519281', 74.0),\n",
       " ('2017-07-11', 'USC00519281', 72.0),\n",
       " ('2017-07-10', 'USC00519281', 69.0),\n",
       " ('2017-07-09', 'USC00519281', 78.0),\n",
       " ('2017-07-08', 'USC00519281', 78.0),\n",
       " ('2017-07-07', 'USC00519281', 75.0),\n",
       " ('2017-07-06', 'USC00519281', 74.0),\n",
       " ('2017-07-05', 'USC00519281', 77.0),\n",
       " ('2017-07-04', 'USC00519281', 78.0),\n",
       " ('2017-07-03', 'USC00519281', 76.0),\n",
       " ('2017-07-02', 'USC00519281', 81.0),\n",
       " ('2017-07-01', 'USC00519281', 79.0),\n",
       " ('2017-06-30', 'USC00519281', 76.0),\n",
       " ('2017-06-29', 'USC00519281', 76.0),\n",
       " ('2017-06-28', 'USC00519281', 77.0),\n",
       " ('2017-06-27', 'USC00519281', 76.0),\n",
       " ('2017-06-26', 'USC00519281', 73.0),\n",
       " ('2017-06-25', 'USC00519281', 71.0),\n",
       " ('2017-06-24', 'USC00519281', 77.0),\n",
       " ('2017-06-23', 'USC00519281', 72.0),\n",
       " ('2017-06-22', 'USC00519281', 72.0),\n",
       " ('2017-06-21', 'USC00519281', 74.0),\n",
       " ('2017-06-20', 'USC00519281', 72.0),\n",
       " ('2017-06-19', 'USC00519281', 72.0),\n",
       " ('2017-06-18', 'USC00519281', 75.0),\n",
       " ('2017-06-17', 'USC00519281', 79.0),\n",
       " ('2017-06-16', 'USC00519281', 73.0),\n",
       " ('2017-06-15', 'USC00519281', 75.0),\n",
       " ('2017-06-14', 'USC00519281', 74.0),\n",
       " ('2017-06-13', 'USC00519281', 76.0),\n",
       " ('2017-06-12', 'USC00519281', 74.0),\n",
       " ('2017-06-11', 'USC00519281', 74.0),\n",
       " ('2017-06-10', 'USC00519281', 74.0),\n",
       " ('2017-06-09', 'USC00519281', 72.0),\n",
       " ('2017-06-08', 'USC00519281', 75.0),\n",
       " ('2017-06-07', 'USC00519281', 75.0),\n",
       " ('2017-06-06', 'USC00519281', 75.0),\n",
       " ('2017-06-05', 'USC00519281', 75.0),\n",
       " ('2017-06-04', 'USC00519281', 77.0),\n",
       " ('2017-06-03', 'USC00519281', 76.0),\n",
       " ('2017-06-02', 'USC00519281', 76.0),\n",
       " ('2017-06-01', 'USC00519281', 80.0),\n",
       " ('2017-05-31', 'USC00519281', 75.0),\n",
       " ('2017-05-30', 'USC00519281', 72.0),\n",
       " ('2017-05-29', 'USC00519281', 74.0),\n",
       " ('2017-05-28', 'USC00519281', 80.0),\n",
       " ('2017-05-27', 'USC00519281', 74.0),\n",
       " ('2017-05-26', 'USC00519281', 74.0),\n",
       " ('2017-05-25', 'USC00519281', 74.0),\n",
       " ('2017-05-24', 'USC00519281', 74.0),\n",
       " ('2017-05-23', 'USC00519281', 71.0),\n",
       " ('2017-05-22', 'USC00519281', 71.0),\n",
       " ('2017-05-21', 'USC00519281', 74.0),\n",
       " ('2017-05-20', 'USC00519281', 76.0),\n",
       " ('2017-05-19', 'USC00519281', 68.0),\n",
       " ('2017-05-18', 'USC00519281', 69.0),\n",
       " ('2017-05-17', 'USC00519281', 74.0),\n",
       " ('2017-05-16', 'USC00519281', 74.0),\n",
       " ('2017-05-15', 'USC00519281', 74.0),\n",
       " ('2017-05-14', 'USC00519281', 77.0),\n",
       " ('2017-05-13', 'USC00519281', 76.0),\n",
       " ('2017-05-12', 'USC00519281', 75.0),\n",
       " ('2017-05-11', 'USC00519281', 70.0),\n",
       " ('2017-05-10', 'USC00519281', 74.0),\n",
       " ('2017-05-09', 'USC00519281', 67.0),\n",
       " ('2017-05-08', 'USC00519281', 70.0),\n",
       " ('2017-05-07', 'USC00519281', 75.0),\n",
       " ('2017-05-06', 'USC00519281', 79.0),\n",
       " ('2017-05-05', 'USC00519281', 70.0),\n",
       " ('2017-05-04', 'USC00519281', 75.0),\n",
       " ('2017-05-03', 'USC00519281', 70.0),\n",
       " ('2017-05-02', 'USC00519281', 75.0),\n",
       " ('2017-05-01', 'USC00519281', 65.0),\n",
       " ('2017-04-30', 'USC00519281', 60.0),\n",
       " ('2017-04-29', 'USC00519281', 72.0),\n",
       " ('2017-04-28', 'USC00519281', 67.0),\n",
       " ('2017-04-27', 'USC00519281', 70.0),\n",
       " ('2017-04-26', 'USC00519281', 74.0),\n",
       " ('2017-04-25', 'USC00519281', 72.0),\n",
       " ('2017-04-24', 'USC00519281', 68.0),\n",
       " ('2017-04-23', 'USC00519281', 76.0),\n",
       " ('2017-04-22', 'USC00519281', 72.0),\n",
       " ('2017-04-21', 'USC00519281', 69.0),\n",
       " ('2017-04-20', 'USC00519281', 76.0),\n",
       " ('2017-04-19', 'USC00519281', 67.0),\n",
       " ('2017-04-18', 'USC00519281', 68.0),\n",
       " ('2017-04-17', 'USC00519281', 67.0),\n",
       " ('2017-04-16', 'USC00519281', 71.0),\n",
       " ('2017-04-15', 'USC00519281', 78.0),\n",
       " ('2017-04-14', 'USC00519281', 74.0),\n",
       " ('2017-04-13', 'USC00519281', 69.0),\n",
       " ('2017-04-12', 'USC00519281', 69.0),\n",
       " ('2017-04-11', 'USC00519281', 70.0),\n",
       " ('2017-04-10', 'USC00519281', 67.0),\n",
       " ('2017-04-09', 'USC00519281', 78.0),\n",
       " ('2017-04-08', 'USC00519281', 77.0),\n",
       " ('2017-04-07', 'USC00519281', 74.0),\n",
       " ('2017-04-06', 'USC00519281', 67.0),\n",
       " ('2017-04-05', 'USC00519281', 71.0),\n",
       " ('2017-04-04', 'USC00519281', 67.0),\n",
       " ('2017-04-03', 'USC00519281', 70.0),\n",
       " ('2017-04-02', 'USC00519281', 75.0),\n",
       " ('2017-04-01', 'USC00519281', 74.0),\n",
       " ('2017-03-31', 'USC00519281', 71.0),\n",
       " ('2017-03-30', 'USC00519281', 73.0),\n",
       " ('2017-03-29', 'USC00519281', 68.0),\n",
       " ('2017-03-28', 'USC00519281', 74.0),\n",
       " ('2017-03-27', 'USC00519281', 76.0),\n",
       " ('2017-03-26', 'USC00519281', 77.0),\n",
       " ('2017-03-25', 'USC00519281', 76.0),\n",
       " ('2017-03-24', 'USC00519281', 71.0),\n",
       " ('2017-03-23', 'USC00519281', 72.0),\n",
       " ('2017-03-22', 'USC00519281', 73.0),\n",
       " ('2017-03-21', 'USC00519281', 72.0),\n",
       " ('2017-03-20', 'USC00519281', 69.0),\n",
       " ('2017-03-19', 'USC00519281', 74.0),\n",
       " ('2017-03-18', 'USC00519281', 65.0),\n",
       " ('2017-03-17', 'USC00519281', 68.0),\n",
       " ('2017-03-16', 'USC00519281', 66.0),\n",
       " ('2017-03-15', 'USC00519281', 69.0),\n",
       " ('2017-03-14', 'USC00519281', 67.0),\n",
       " ('2017-03-13', 'USC00519281', 66.0),\n",
       " ('2017-03-12', 'USC00519281', 69.0),\n",
       " ('2017-03-11', 'USC00519281', 81.0),\n",
       " ('2017-03-10', 'USC00519281', 66.0),\n",
       " ('2017-03-09', 'USC00519281', 67.0),\n",
       " ('2017-03-08', 'USC00519281', 64.0),\n",
       " ('2017-03-07', 'USC00519281', 62.0),\n",
       " ('2017-03-06', 'USC00519281', 67.0),\n",
       " ('2017-03-05', 'USC00519281', 73.0),\n",
       " ('2017-03-04', 'USC00519281', 77.0),\n",
       " ('2017-03-03', 'USC00519281', 72.0),\n",
       " ('2017-03-02', 'USC00519281', 73.0),\n",
       " ('2017-03-01', 'USC00519281', 71.0),\n",
       " ('2017-02-28', 'USC00519281', 72.0),\n",
       " ('2017-02-27', 'USC00519281', 65.0),\n",
       " ('2017-02-26', 'USC00519281', 67.0),\n",
       " ('2017-02-25', 'USC00519281', 61.0),\n",
       " ('2017-02-24', 'USC00519281', 69.0),\n",
       " ('2017-02-23', 'USC00519281', 71.0),\n",
       " ('2017-02-22', 'USC00519281', 71.0),\n",
       " ('2017-02-21', 'USC00519281', 71.0),\n",
       " ('2017-02-20', 'USC00519281', 70.0),\n",
       " ('2017-02-19', 'USC00519281', 70.0),\n",
       " ('2017-02-18', 'USC00519281', 74.0),\n",
       " ('2017-02-17', 'USC00519281', 70.0),\n",
       " ('2017-02-16', 'USC00519281', 65.0),\n",
       " ('2017-02-15', 'USC00519281', 75.0),\n",
       " ('2017-02-14', 'USC00519281', 79.0),\n",
       " ('2017-02-13', 'USC00519281', 73.0),\n",
       " ('2017-02-12', 'USC00519281', 70.0),\n",
       " ('2017-02-11', 'USC00519281', 68.0),\n",
       " ('2017-02-10', 'USC00519281', 62.0),\n",
       " ('2017-02-09', 'USC00519281', 59.0),\n",
       " ('2017-02-08', 'USC00519281', 59.0),\n",
       " ('2017-02-07', 'USC00519281', 64.0),\n",
       " ('2017-02-06', 'USC00519281', 75.0),\n",
       " ('2017-02-05', 'USC00519281', 73.0),\n",
       " ('2017-02-04', 'USC00519281', 70.0),\n",
       " ('2017-02-03', 'USC00519281', 60.0),\n",
       " ('2017-02-02', 'USC00519281', 59.0),\n",
       " ('2017-02-01', 'USC00519281', 68.0),\n",
       " ('2017-01-31', 'USC00519281', 68.0),\n",
       " ('2017-01-30', 'USC00519281', 68.0),\n",
       " ('2017-01-29', 'USC00519281', 69.0),\n",
       " ('2017-01-28', 'USC00519281', 65.0),\n",
       " ('2017-01-27', 'USC00519281', 66.0),\n",
       " ('2017-01-26', 'USC00519281', 70.0),\n",
       " ('2017-01-25', 'USC00519281', 69.0),\n",
       " ('2017-01-24', 'USC00519281', 72.0),\n",
       " ('2017-01-23', 'USC00519281', 72.0),\n",
       " ('2017-01-22', 'USC00519281', 71.0),\n",
       " ('2017-01-21', 'USC00519281', 71.0),\n",
       " ('2017-01-20', 'USC00519281', 69.0),\n",
       " ('2017-01-19', 'USC00519281', 71.0),\n",
       " ('2017-01-18', 'USC00519281', 72.0),\n",
       " ('2017-01-17', 'USC00519281', 69.0),\n",
       " ('2017-01-16', 'USC00519281', 74.0),\n",
       " ('2017-01-15', 'USC00519281', 70.0),\n",
       " ('2017-01-14', 'USC00519281', 77.0),\n",
       " ('2017-01-13', 'USC00519281', 69.0),\n",
       " ('2017-01-12', 'USC00519281', 65.0),\n",
       " ('2017-01-11', 'USC00519281', 63.0),\n",
       " ('2017-01-10', 'USC00519281', 62.0),\n",
       " ('2017-01-09', 'USC00519281', 62.0),\n",
       " ('2017-01-08', 'USC00519281', 70.0),\n",
       " ('2017-01-07', 'USC00519281', 70.0),\n",
       " ('2017-01-06', 'USC00519281', 62.0),\n",
       " ('2017-01-05', 'USC00519281', 63.0),\n",
       " ('2017-01-04', 'USC00519281', 63.0),\n",
       " ('2017-01-03', 'USC00519281', 64.0),\n",
       " ('2017-01-02', 'USC00519281', 70.0),\n",
       " ('2017-01-01', 'USC00519281', 72.0),\n",
       " ('2016-12-31', 'USC00519281', 67.0),\n",
       " ('2016-12-30', 'USC00519281', 69.0),\n",
       " ('2016-12-29', 'USC00519281', 74.0),\n",
       " ('2016-12-28', 'USC00519281', 72.0),\n",
       " ('2016-12-27', 'USC00519281', 71.0),\n",
       " ('2016-12-26', 'USC00519281', 72.0),\n",
       " ('2016-12-25', 'USC00519281', 74.0),\n",
       " ('2016-12-24', 'USC00519281', 74.0),\n",
       " ('2016-12-23', 'USC00519281', 71.0),\n",
       " ('2016-12-22', 'USC00519281', 73.0),\n",
       " ('2016-12-21', 'USC00519281', 74.0),\n",
       " ('2016-12-20', 'USC00519281', 76.0),\n",
       " ('2016-12-19', 'USC00519281', 76.0),\n",
       " ('2016-12-18', 'USC00519281', 69.0),\n",
       " ('2016-12-17', 'USC00519281', 70.0),\n",
       " ('2016-12-16', 'USC00519281', 75.0),\n",
       " ('2016-12-15', 'USC00519281', 62.0),\n",
       " ('2016-12-14', 'USC00519281', 68.0),\n",
       " ('2016-12-13', 'USC00519281', 65.0),\n",
       " ('2016-12-12', 'USC00519281', 66.0),\n",
       " ('2016-12-11', 'USC00519281', 69.0),\n",
       " ('2016-12-10', 'USC00519281', 69.0),\n",
       " ('2016-12-09', 'USC00519281', 68.0),\n",
       " ('2016-12-08', 'USC00519281', 70.0),\n",
       " ('2016-12-07', 'USC00519281', 69.0),\n",
       " ('2016-12-06', 'USC00519281', 67.0),\n",
       " ('2016-12-05', 'USC00519281', 67.0),\n",
       " ('2016-12-04', 'USC00519281', 70.0),\n",
       " ('2016-12-03', 'USC00519281', 72.0),\n",
       " ('2016-12-02', 'USC00519281', 70.0),\n",
       " ('2016-12-01', 'USC00519281', 74.0),\n",
       " ('2016-11-30', 'USC00519281', 73.0),\n",
       " ('2016-11-29', 'USC00519281', 73.0),\n",
       " ('2016-11-28', 'USC00519281', 75.0),\n",
       " ('2016-11-27', 'USC00519281', 73.0),\n",
       " ('2016-11-26', 'USC00519281', 75.0),\n",
       " ('2016-11-25', 'USC00519281', 74.0),\n",
       " ('2016-11-24', 'USC00519281', 75.0),\n",
       " ('2016-11-23', 'USC00519281', 74.0),\n",
       " ('2016-11-22', 'USC00519281', 75.0),\n",
       " ('2016-11-21', 'USC00519281', 73.0),\n",
       " ('2016-11-20', 'USC00519281', 75.0),\n",
       " ('2016-11-19', 'USC00519281', 73.0),\n",
       " ('2016-11-18', 'USC00519281', 75.0),\n",
       " ('2016-11-17', 'USC00519281', 76.0),\n",
       " ('2016-11-16', 'USC00519281', 75.0),\n",
       " ('2016-11-15', 'USC00519281', 76.0),\n",
       " ('2016-11-14', 'USC00519281', 76.0),\n",
       " ('2016-11-13', 'USC00519281', 77.0),\n",
       " ('2016-11-12', 'USC00519281', 74.0),\n",
       " ('2016-11-11', 'USC00519281', 77.0),\n",
       " ('2016-11-10', 'USC00519281', 67.0),\n",
       " ('2016-11-09', 'USC00519281', 68.0),\n",
       " ('2016-11-08', 'USC00519281', 70.0),\n",
       " ('2016-11-07', 'USC00519281', 63.0),\n",
       " ('2016-11-06', 'USC00519281', 71.0),\n",
       " ('2016-11-05', 'USC00519281', 75.0),\n",
       " ('2016-11-04', 'USC00519281', 75.0),\n",
       " ('2016-11-03', 'USC00519281', 75.0),\n",
       " ('2016-11-02', 'USC00519281', 75.0),\n",
       " ('2016-11-01', 'USC00519281', 74.0),\n",
       " ('2016-10-31', 'USC00519281', 76.0),\n",
       " ('2016-10-30', 'USC00519281', 76.0),\n",
       " ('2016-10-29', 'USC00519281', 77.0),\n",
       " ('2016-10-28', 'USC00519281', 74.0),\n",
       " ('2016-10-27', 'USC00519281', 76.0),\n",
       " ('2016-10-26', 'USC00519281', 73.0),\n",
       " ('2016-10-25', 'USC00519281', 76.0),\n",
       " ('2016-10-24', 'USC00519281', 75.0),\n",
       " ('2016-10-23', 'USC00519281', 74.0),\n",
       " ('2016-10-22', 'USC00519281', 77.0),\n",
       " ('2016-10-21', 'USC00519281', 78.0),\n",
       " ('2016-10-20', 'USC00519281', 78.0),\n",
       " ('2016-10-19', 'USC00519281', 78.0),\n",
       " ('2016-10-18', 'USC00519281', 78.0),\n",
       " ('2016-10-17', 'USC00519281', 77.0),\n",
       " ('2016-10-16', 'USC00519281', 79.0),\n",
       " ('2016-10-15', 'USC00519281', 77.0),\n",
       " ('2016-10-14', 'USC00519281', 79.0),\n",
       " ('2016-10-13', 'USC00519281', 78.0),\n",
       " ('2016-10-12', 'USC00519281', 79.0),\n",
       " ('2016-10-11', 'USC00519281', 77.0),\n",
       " ('2016-10-10', 'USC00519281', 71.0),\n",
       " ('2016-10-09', 'USC00519281', 72.0),\n",
       " ('2016-10-08', 'USC00519281', 73.0),\n",
       " ('2016-10-07', 'USC00519281', 76.0),\n",
       " ('2016-10-06', 'USC00519281', 75.0),\n",
       " ('2016-10-05', 'USC00519281', 79.0),\n",
       " ('2016-10-04', 'USC00519281', 79.0),\n",
       " ('2016-10-03', 'USC00519281', 79.0),\n",
       " ('2016-10-02', 'USC00519281', 79.0),\n",
       " ('2016-10-01', 'USC00519281', 77.0),\n",
       " ('2016-09-30', 'USC00519281', 78.0),\n",
       " ('2016-09-29', 'USC00519281', 78.0),\n",
       " ('2016-09-28', 'USC00519281', 78.0),\n",
       " ('2016-09-27', 'USC00519281', 80.0),\n",
       " ('2016-09-26', 'USC00519281', 77.0),\n",
       " ('2016-09-25', 'USC00519281', 79.0),\n",
       " ('2016-09-24', 'USC00519281', 79.0),\n",
       " ('2016-09-23', 'USC00519281', 78.0),\n",
       " ('2016-09-22', 'USC00519281', 77.0),\n",
       " ('2016-09-21', 'USC00519281', 74.0),\n",
       " ('2016-09-20', 'USC00519281', 76.0),\n",
       " ('2016-09-19', 'USC00519281', 78.0),\n",
       " ('2016-09-18', 'USC00519281', 78.0),\n",
       " ('2016-09-17', 'USC00519281', 79.0),\n",
       " ('2016-09-16', 'USC00519281', 78.0),\n",
       " ('2016-09-15', 'USC00519281', 79.0),\n",
       " ('2016-09-14', 'USC00519281', 75.0),\n",
       " ('2016-09-13', 'USC00519281', 79.0),\n",
       " ('2016-09-12', 'USC00519281', 76.0),\n",
       " ('2016-09-11', 'USC00519281', 80.0),\n",
       " ('2016-09-10', 'USC00519281', 77.0),\n",
       " ('2016-09-09', 'USC00519281', 79.0),\n",
       " ('2016-09-08', 'USC00519281', 80.0),\n",
       " ('2016-09-07', 'USC00519281', 74.0),\n",
       " ('2016-09-06', 'USC00519281', 73.0),\n",
       " ('2016-09-05', 'USC00519281', 78.0),\n",
       " ('2016-09-04', 'USC00519281', 78.0),\n",
       " ('2016-09-03', 'USC00519281', 78.0),\n",
       " ('2016-09-02', 'USC00519281', 80.0),\n",
       " ('2016-09-01', 'USC00519281', 80.0),\n",
       " ('2016-08-31', 'USC00519281', 78.0),\n",
       " ('2016-08-30', 'USC00519281', 77.0),\n",
       " ('2016-08-29', 'USC00519281', 78.0),\n",
       " ('2016-08-28', 'USC00519281', 73.0),\n",
       " ('2016-08-27', 'USC00519281', 75.0),\n",
       " ('2016-08-26', 'USC00519281', 80.0),\n",
       " ('2016-08-25', 'USC00519281', 80.0),\n",
       " ('2016-08-24', 'USC00519281', 77.0),\n",
       " ('2016-08-23', 'USC00519281', 77.0)]"
      ]
     },
     "execution_count": 122,
     "metadata": {},
     "output_type": "execute_result"
    }
   ],
   "source": [
    "# Choose the station with the highest number of temperature observations.\n",
    "temp_obs = Session.query(Measurement.date,Measurement.station,Measurement.tobs)\\\n",
    "             .filter(Measurement.date >= twelve_months).filter(Measurement.station == top_station[0]).order_by(desc(Measurement.date)).all()\n",
    "temp_obs\n"
   ]
  },
  {
   "cell_type": "code",
   "execution_count": 123,
   "metadata": {},
   "outputs": [
    {
     "data": {
      "text/html": [
       "<div>\n",
       "<style scoped>\n",
       "    .dataframe tbody tr th:only-of-type {\n",
       "        vertical-align: middle;\n",
       "    }\n",
       "\n",
       "    .dataframe tbody tr th {\n",
       "        vertical-align: top;\n",
       "    }\n",
       "\n",
       "    .dataframe thead th {\n",
       "        text-align: right;\n",
       "    }\n",
       "</style>\n",
       "<table border=\"1\" class=\"dataframe\">\n",
       "  <thead>\n",
       "    <tr style=\"text-align: right;\">\n",
       "      <th></th>\n",
       "      <th>Date</th>\n",
       "      <th>Station ID</th>\n",
       "      <th>Temperature_Recorded</th>\n",
       "    </tr>\n",
       "  </thead>\n",
       "  <tbody>\n",
       "    <tr>\n",
       "      <td>0</td>\n",
       "      <td>2017-08-18</td>\n",
       "      <td>USC00519281</td>\n",
       "      <td>79.0</td>\n",
       "    </tr>\n",
       "    <tr>\n",
       "      <td>1</td>\n",
       "      <td>2017-08-17</td>\n",
       "      <td>USC00519281</td>\n",
       "      <td>76.0</td>\n",
       "    </tr>\n",
       "    <tr>\n",
       "      <td>2</td>\n",
       "      <td>2017-08-16</td>\n",
       "      <td>USC00519281</td>\n",
       "      <td>76.0</td>\n",
       "    </tr>\n",
       "    <tr>\n",
       "      <td>3</td>\n",
       "      <td>2017-08-15</td>\n",
       "      <td>USC00519281</td>\n",
       "      <td>77.0</td>\n",
       "    </tr>\n",
       "    <tr>\n",
       "      <td>4</td>\n",
       "      <td>2017-08-14</td>\n",
       "      <td>USC00519281</td>\n",
       "      <td>77.0</td>\n",
       "    </tr>\n",
       "  </tbody>\n",
       "</table>\n",
       "</div>"
      ],
      "text/plain": [
       "         Date   Station ID  Temperature_Recorded\n",
       "0  2017-08-18  USC00519281                  79.0\n",
       "1  2017-08-17  USC00519281                  76.0\n",
       "2  2017-08-16  USC00519281                  76.0\n",
       "3  2017-08-15  USC00519281                  77.0\n",
       "4  2017-08-14  USC00519281                  77.0"
      ]
     },
     "execution_count": 123,
     "metadata": {},
     "output_type": "execute_result"
    }
   ],
   "source": [
    "temp_obs_df = pd.DataFrame(temp_obs,columns=[\"Date\",\"Station ID\",\"Temperature_Recorded\"])\n",
    "temp_obs_df.head()"
   ]
  },
  {
   "cell_type": "code",
   "execution_count": 131,
   "metadata": {},
   "outputs": [
    {
     "data": {
      "image/png": "[encoded data removed]",
      "text/plain": [
       "<Figure size 432x288 with 1 Axes>"
      ]
     },
     "metadata": {
      "needs_background": "light"
     },
     "output_type": "display_data"
    }
   ],
   "source": [
    "# Query the last 12 months of temperature observation data for this station and plot the results as a histogram\n",
    "\n",
    "temp_obs_df.plot.hist(by=\"Temperature_Recorded\",bins=12,label=\"tobs\",title=f'Temperature Frequency for {top_station[0]} from {twelve_months} through {last_date}')\n",
    "plt.ylim=(0,80)\n",
    "plt.ylabel(\"Frequency of Temperature\")\n",
    "plt.xlabel(\"Temperature (F)\")\n",
    "plt.legend=()\n",
    "plt.savefig(\"Images/Temp_Histogram.jpg\")\n",
    "plt.show()"
   ]
  },
  {
   "cell_type": "markdown",
   "metadata": {},
   "source": [
    "## Bonus Challenge Assignment"
   ]
  },
  {
   "cell_type": "code",
   "execution_count": null,
   "metadata": {},
   "outputs": [],
   "source": [
    "# This function called `calc_temps` will accept start date and end date in the format '%Y-%m-%d' \n",
    "# and return the minimum, average, and maximum temperatures for that range of dates\n",
    "def calc_temps(start_date, end_date):\n",
    "    \"\"\"TMIN, TAVG, and TMAX for a list of dates.\n",
    "    \n",
    "    Args:\n",
    "        start_date (string): A date string in the format %Y-%m-%d\n",
    "        end_date (string): A date string in the format %Y-%m-%d\n",
    "        \n",
    "    Returns:\n",
    "        TMIN, TAVE, and TMAX\n",
    "    \"\"\"\n",
    "    \n",
    "    return session.query(func.min(Measurement.tobs), func.avg(Measurement.tobs), func.max(Measurement.tobs)).\\\n",
    "        filter(Measurement.date >= start_date).filter(Measurement.date <= end_date).all()\n",
    "\n",
    "# function usage example\n",
    "print(calc_temps('2012-02-28', '2012-03-05'))"
   ]
  },
  {
   "cell_type": "code",
   "execution_count": null,
   "metadata": {},
   "outputs": [],
   "source": [
    "# Use your previous function `calc_temps` to calculate the tmin, tavg, and tmax \n",
    "# for your trip using the previous year's data for those same dates.\n"
   ]
  },
  {
   "cell_type": "code",
   "execution_count": null,
   "metadata": {},
   "outputs": [],
   "source": [
    "# Plot the results from your previous query as a bar chart. \n",
    "# Use \"Trip Avg Temp\" as your Title\n",
    "# Use the average temperature for the y value\n",
    "# Use the peak-to-peak (tmax-tmin) value as the y error bar (yerr)\n"
   ]
  },
  {
   "cell_type": "code",
   "execution_count": null,
   "metadata": {},
   "outputs": [],
   "source": [
    "# Calculate the total amount of rainfall per weather station for your trip dates using the previous year's matching dates.\n",
    "# Sort this in descending order by precipitation amount and list the station, name, latitude, longitude, and elevation\n",
    "\n"
   ]
  },
  {
   "cell_type": "code",
   "execution_count": null,
   "metadata": {},
   "outputs": [],
   "source": [
    "# Create a query that will calculate the daily normals \n",
    "# (i.e. the averages for tmin, tmax, and tavg for all historic data matching a specific month and day)\n",
    "\n",
    "def daily_normals(date):\n",
    "    \"\"\"Daily Normals.\n",
    "    \n",
    "    Args:\n",
    "        date (str): A date string in the format '%m-%d'\n",
    "        \n",
    "    Returns:\n",
    "        A list of tuples containing the daily normals, tmin, tavg, and tmax\n",
    "    \n",
    "    \"\"\"\n",
    "    \n",
    "    sel = [func.min(Measurement.tobs), func.avg(Measurement.tobs), func.max(Measurement.tobs)]\n",
    "    return session.query(*sel).filter(func.strftime(\"%m-%d\", Measurement.date) == date).all()\n",
    "    \n",
    "daily_normals(\"01-01\")"
   ]
  },
  {
   "cell_type": "code",
   "execution_count": null,
   "metadata": {},
   "outputs": [],
   "source": [
    "# calculate the daily normals for your trip\n",
    "# push each tuple of calculations into a list called `normals`\n",
    "\n",
    "# Set the start and end date of the trip\n",
    "\n",
    "# Use the start and end date to create a range of dates\n",
    "\n",
    "# Stip off the year and save a list of %m-%d strings\n",
    "\n",
    "# Loop through the list of %m-%d strings and calculate the normals for each date\n"
   ]
  },
  {
   "cell_type": "code",
   "execution_count": null,
   "metadata": {},
   "outputs": [],
   "source": [
    "# Load the previous query results into a Pandas DataFrame and add the `trip_dates` range as the `date` index\n"
   ]
  },
  {
   "cell_type": "code",
   "execution_count": null,
   "metadata": {},
   "outputs": [],
   "source": [
    "# Plot the daily normals as an area plot with `stacked=False`\n"
   ]
  }
 ],
 "metadata": {
  "kernel_info": {
   "name": "python3"
  },
  "kernelspec": {
   "display_name": "Python 3",
   "language": "python",
   "name": "python3"
  },
  "language_info": {
   "codemirror_mode": {
    "name": "ipython",
    "version": 3
   },
   "file_extension": ".py",
   "mimetype": "text/x-python",
   "name": "python",
   "nbconvert_exporter": "python",
   "pygments_lexer": "ipython3",
   "version": "3.7.4"
  },
  "nteract": {
   "version": "0.12.3"
  },
  "varInspector": {
   "cols": {
    "lenName": 16,
    "lenType": 16,
    "lenVar": 40
   },
   "kernels_config": {
    "python": {
     "delete_cmd_postfix": "",
     "delete_cmd_prefix": "del ",
     "library": "var_list.py",
     "varRefreshCmd": "print(var_dic_list())"
    },
    "r": {
     "delete_cmd_postfix": ") ",
     "delete_cmd_prefix": "rm(",
     "library": "var_list.r",
     "varRefreshCmd": "cat(var_dic_list()) "
    }
   },
   "types_to_exclude": [
    "module",
    "function",
    "builtin_function_or_method",
    "instance",
    "_Feature"
   ],
   "window_display": false
  }
 },
 "nbformat": 4,
 "nbformat_minor": 2
}
